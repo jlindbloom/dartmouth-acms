{
  "cells": [
    {
      "cell_type": "raw",
      "metadata": {},
      "source": [
        "---\n",
        "title: Past Seminars\n",
        "echo: false\n",
        "section-divs: false\n",
        "keep-md: true\n",
        "---"
      ],
      "id": "6e7da882"
    },
    {
      "cell_type": "code",
      "metadata": {},
      "source": [
        "import yaml\n",
        "from IPython.display import display, Markdown, HTML\n",
        "from tabulate import tabulate\n",
        "from datetime import datetime\n",
        "\n",
        "\n",
        "def build_table(which_schedule):\n",
        "\n",
        "    seminar_data = yaml.safe_load(open(\"seminar_talks.yml\"))\n",
        "    table = []\n",
        "\n",
        "    for key, data in seminar_data.items():\n",
        "\n",
        "        # Only get ones on the current schedule\n",
        "        if data[\"schedule\"] == which_schedule:\n",
        "            # table_row = [ date, speaker, title, abstract ]\n",
        "            date = data[\"date\"]\n",
        "\n",
        "            if data['speaker_url'] is None:\n",
        "                speaker_str = f\"{data['speaker']} ({data['affiliation']})\"\n",
        "            else:\n",
        "                speaker_str = f\"[{data['speaker']}]({data['speaker_url']}) ({data['affiliation']})\"\n",
        "\n",
        "            title_str = f\"[{data['title']}](/seminar_pages/{key}.html)\"\n",
        "\n",
        "            table.append( [date, speaker_str, title_str] )\n",
        "        else:\n",
        "            pass\n",
        "\n",
        "    # Re-order based on date\n",
        "    dates = [ datetime.strptime(item[0], '%m/%d/%y') for item in table ]\n",
        "    table = [ x for _, x in reversed(sorted(zip(dates, table))) ]\n",
        "\n",
        "    return table"
      ],
      "id": "c3ccce6a",
      "execution_count": null,
      "outputs": []
    },
    {
      "cell_type": "markdown",
      "metadata": {},
      "source": [
        "# Winter 2024"
      ],
      "id": "d01b3d47"
    },
    {
      "cell_type": "code",
      "metadata": {},
      "source": [
        "which_schedule = \"W24\"\n",
        "table = build_table(which_schedule)\n",
        "Markdown(tabulate(\n",
        "  table, \n",
        "  headers=[\"Date\", \"Speaker\", \"Title\"]\n",
        "))"
      ],
      "id": "89bb431b",
      "execution_count": null,
      "outputs": []
    },
    {
      "cell_type": "markdown",
      "metadata": {},
      "source": [
        "# Fall 2023"
      ],
      "id": "d743e9b7"
    },
    {
      "cell_type": "code",
      "metadata": {},
      "source": [
        "which_schedule = \"F23\"\n",
        "table = build_table(which_schedule)\n",
        "Markdown(tabulate(\n",
        "  table, \n",
        "  headers=[\"Date\", \"Speaker\", \"Title\"]\n",
        "))"
      ],
      "id": "d5177727",
      "execution_count": null,
      "outputs": []
    },
    {
      "cell_type": "markdown",
      "metadata": {},
      "source": [
        "# Spring 2023"
      ],
      "id": "512bb971"
    },
    {
      "cell_type": "code",
      "metadata": {},
      "source": [
        "which_schedule = \"S23\"\n",
        "table = build_table(which_schedule)\n",
        "Markdown(tabulate(\n",
        "  table, \n",
        "  headers=[\"Date\", \"Speaker\", \"Title\"]\n",
        "))"
      ],
      "id": "4ae663f9",
      "execution_count": null,
      "outputs": []
    },
    {
      "cell_type": "markdown",
      "metadata": {},
      "source": [
        "# Winter 2023"
      ],
      "id": "19e95645"
    },
    {
      "cell_type": "code",
      "metadata": {},
      "source": [
        "which_schedule = \"W23\"\n",
        "table = build_table(which_schedule)\n",
        "Markdown(tabulate(\n",
        "  table, \n",
        "  headers=[\"Date\", \"Speaker\", \"Title\"]\n",
        "))"
      ],
      "id": "3e90aa5f",
      "execution_count": null,
      "outputs": []
    },
    {
      "cell_type": "markdown",
      "metadata": {},
      "source": [
        "# Fall 2022"
      ],
      "id": "231c210a"
    },
    {
      "cell_type": "code",
      "metadata": {},
      "source": [
        "which_schedule = \"F22\"\n",
        "table = build_table(which_schedule)\n",
        "Markdown(tabulate(\n",
        "  table, \n",
        "  headers=[\"Date\", \"Speaker\", \"Title\"]\n",
        "))"
      ],
      "id": "ed43a48f",
      "execution_count": null,
      "outputs": []
    },
    {
      "cell_type": "markdown",
      "metadata": {},
      "source": [
        "Still adding the rest of the history back to Spring 2006...\n"
      ],
      "id": "1d76ebe0"
    }
  ],
  "metadata": {
    "kernelspec": {
      "display_name": "Python 3",
      "language": "python",
      "name": "python3"
    }
  },
  "nbformat": 4,
  "nbformat_minor": 5
}